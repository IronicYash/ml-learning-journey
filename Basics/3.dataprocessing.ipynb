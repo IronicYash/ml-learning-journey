{
 "cells": [
  {
   "cell_type": "code",
   "execution_count": 1,
   "id": "e5d9c904",
   "metadata": {},
   "outputs": [
    {
     "name": "stdout",
     "output_type": "stream",
     "text": [
      "✅ Libraries imported!\n"
     ]
    }
   ],
   "source": [
    "import pandas as pd\n",
    "import numpy as np\n",
    "from sklearn.model_selection import train_test_split\n",
    "from sklearn.preprocessing import LabelEncoder, StandardScaler\n",
    "\n",
    "print(\"✅ Libraries imported!\")"
   ]
  },
  {
   "cell_type": "code",
   "execution_count": 2,
   "id": "c10a2c2c",
   "metadata": {},
   "outputs": [
    {
     "name": "stdout",
     "output_type": "stream",
     "text": [
      "Original Data:\n",
      "     Name   Age     City   Salary\n",
      "0    Amit  25.0    Delhi  50000.0\n",
      "1    Neha  30.0   Mumbai  60000.0\n",
      "2     Raj   NaN    Delhi  52000.0\n",
      "3  Simran  22.0     Pune      NaN\n",
      "4    Asha  28.0      NaN  58000.0\n",
      "5   Rohit  35.0  Chennai  62000.0\n"
     ]
    }
   ],
   "source": [
    "data = {\n",
    "    'Name': ['Amit', 'Neha', 'Raj', 'Simran', 'Asha', 'Rohit'],\n",
    "    'Age': [25, 30, np.nan, 22, 28, 35],\n",
    "    'City': ['Delhi', 'Mumbai', 'Delhi', 'Pune', np.nan, 'Chennai'],\n",
    "    'Salary': [50000, 60000, 52000, np.nan, 58000, 62000]\n",
    "}\n",
    "\n",
    "df = pd.DataFrame(data)\n",
    "print(\"Original Data:\")\n",
    "print(df)"
   ]
  },
  {
   "cell_type": "code",
   "execution_count": 3,
   "id": "bde439c7",
   "metadata": {},
   "outputs": [
    {
     "name": "stdout",
     "output_type": "stream",
     "text": [
      "✅ After filling missing values:\n",
      "     Name   Age     City   Salary\n",
      "0    Amit  25.0    Delhi  50000.0\n",
      "1    Neha  30.0   Mumbai  60000.0\n",
      "2     Raj  28.0    Delhi  52000.0\n",
      "3  Simran  22.0     Pune  56400.0\n",
      "4    Asha  28.0    Delhi  58000.0\n",
      "5   Rohit  35.0  Chennai  62000.0\n"
     ]
    }
   ],
   "source": [
    "# Fill missing numeric values with mean\n",
    "df['Age'] = df['Age'].fillna(df['Age'].mean())\n",
    "df['Salary'] = df['Salary'].fillna(df['Salary'].mean())\n",
    "\n",
    "# Fill missing categorical values with mode (most frequent)\n",
    "df['City'] = df['City'].fillna(df['City'].mode()[0])\n",
    "\n",
    "print(\"✅ After filling missing values:\")\n",
    "print(df)"
   ]
  },
  {
   "cell_type": "code",
   "execution_count": 5,
   "id": "18ced80a",
   "metadata": {},
   "outputs": [
    {
     "name": "stdout",
     "output_type": "stream",
     "text": [
      "✅ After encoding City column:\n",
      "     Name   Age  City   Salary\n",
      "0    Amit  25.0     1  50000.0\n",
      "1    Neha  30.0     2  60000.0\n",
      "2     Raj  28.0     1  52000.0\n",
      "3  Simran  22.0     3  56400.0\n",
      "4    Asha  28.0     1  58000.0\n",
      "5   Rohit  35.0     0  62000.0\n"
     ]
    }
   ],
   "source": [
    "le = LabelEncoder()\n",
    "df['City'] = le.fit_transform(df['City'])\n",
    "\n",
    "print(\"✅ After encoding City column:\")\n",
    "print(df)"
   ]
  },
  {
   "cell_type": "code",
   "execution_count": 6,
   "id": "f963b90e",
   "metadata": {},
   "outputs": [
    {
     "name": "stdout",
     "output_type": "stream",
     "text": [
      "✅ After scaling numeric data:\n",
      "     Name       Age  City    Salary\n",
      "0    Amit -0.742307     1 -1.514113\n",
      "1    Neha  0.494872     2  0.851688\n",
      "2     Raj  0.000000     1 -1.040952\n",
      "3  Simran -1.484615     3  0.000000\n",
      "4    Asha  0.000000     1  0.378528\n",
      "5   Rohit  1.732051     0  1.324849\n"
     ]
    }
   ],
   "source": [
    "scaler = StandardScaler()\n",
    "df[['Age', 'Salary']] = scaler.fit_transform(df[['Age', 'Salary']])\n",
    "\n",
    "print(\"✅ After scaling numeric data:\")\n",
    "print(df)"
   ]
  },
  {
   "cell_type": "code",
   "execution_count": 7,
   "id": "cfeb8967",
   "metadata": {},
   "outputs": [
    {
     "name": "stdout",
     "output_type": "stream",
     "text": [
      "✅ Training features:\n",
      "         Age  City    Salary\n",
      "5  1.732051     0  1.324849\n",
      "2  0.000000     1 -1.040952\n",
      "4  0.000000     1  0.378528\n",
      "3 -1.484615     3  0.000000\n",
      "\n",
      "✅ Testing features:\n",
      "         Age  City    Salary\n",
      "0 -0.742307     1 -1.514113\n",
      "1  0.494872     2  0.851688\n"
     ]
    }
   ],
   "source": [
    "X = df[['Age', 'City', 'Salary']]\n",
    "y = np.array([1, 0, 1, 0, 1, 0])  # dummy target variable (e.g., will buy or not buy)\n",
    "\n",
    "X_train, X_test, y_train, y_test = train_test_split(X, y, test_size=0.3, random_state=42)\n",
    "\n",
    "print(\"✅ Training features:\\n\", X_train)\n",
    "print(\"\\n✅ Testing features:\\n\", X_test)"
   ]
  },
  {
   "cell_type": "code",
   "execution_count": 8,
   "id": "2ba41212",
   "metadata": {},
   "outputs": [
    {
     "data": {
      "text/html": [
       "<div>\n",
       "<style scoped>\n",
       "    .dataframe tbody tr th:only-of-type {\n",
       "        vertical-align: middle;\n",
       "    }\n",
       "\n",
       "    .dataframe tbody tr th {\n",
       "        vertical-align: top;\n",
       "    }\n",
       "\n",
       "    .dataframe thead th {\n",
       "        text-align: right;\n",
       "    }\n",
       "</style>\n",
       "<table border=\"1\" class=\"dataframe\">\n",
       "  <thead>\n",
       "    <tr style=\"text-align: right;\">\n",
       "      <th></th>\n",
       "      <th>Name</th>\n",
       "      <th>Age</th>\n",
       "      <th>Salary</th>\n",
       "      <th>City_1</th>\n",
       "      <th>City_2</th>\n",
       "      <th>City_3</th>\n",
       "    </tr>\n",
       "  </thead>\n",
       "  <tbody>\n",
       "    <tr>\n",
       "      <th>0</th>\n",
       "      <td>Amit</td>\n",
       "      <td>-0.742307</td>\n",
       "      <td>-1.514113</td>\n",
       "      <td>True</td>\n",
       "      <td>False</td>\n",
       "      <td>False</td>\n",
       "    </tr>\n",
       "    <tr>\n",
       "      <th>1</th>\n",
       "      <td>Neha</td>\n",
       "      <td>0.494872</td>\n",
       "      <td>0.851688</td>\n",
       "      <td>False</td>\n",
       "      <td>True</td>\n",
       "      <td>False</td>\n",
       "    </tr>\n",
       "    <tr>\n",
       "      <th>2</th>\n",
       "      <td>Raj</td>\n",
       "      <td>0.000000</td>\n",
       "      <td>-1.040952</td>\n",
       "      <td>True</td>\n",
       "      <td>False</td>\n",
       "      <td>False</td>\n",
       "    </tr>\n",
       "    <tr>\n",
       "      <th>3</th>\n",
       "      <td>Simran</td>\n",
       "      <td>-1.484615</td>\n",
       "      <td>0.000000</td>\n",
       "      <td>False</td>\n",
       "      <td>False</td>\n",
       "      <td>True</td>\n",
       "    </tr>\n",
       "    <tr>\n",
       "      <th>4</th>\n",
       "      <td>Asha</td>\n",
       "      <td>0.000000</td>\n",
       "      <td>0.378528</td>\n",
       "      <td>True</td>\n",
       "      <td>False</td>\n",
       "      <td>False</td>\n",
       "    </tr>\n",
       "  </tbody>\n",
       "</table>\n",
       "</div>"
      ],
      "text/plain": [
       "     Name       Age    Salary  City_1  City_2  City_3\n",
       "0    Amit -0.742307 -1.514113    True   False   False\n",
       "1    Neha  0.494872  0.851688   False    True   False\n",
       "2     Raj  0.000000 -1.040952    True   False   False\n",
       "3  Simran -1.484615  0.000000   False   False    True\n",
       "4    Asha  0.000000  0.378528    True   False   False"
      ]
     },
     "execution_count": 8,
     "metadata": {},
     "output_type": "execute_result"
    }
   ],
   "source": [
    "df = pd.get_dummies(df, columns=['City'], drop_first=True)\n",
    "df.head()"
   ]
  },
  {
   "cell_type": "code",
   "execution_count": null,
   "id": "7fcfc424",
   "metadata": {},
   "outputs": [],
   "source": []
  }
 ],
 "metadata": {
  "kernelspec": {
   "display_name": "ml-env",
   "language": "python",
   "name": "python3"
  },
  "language_info": {
   "codemirror_mode": {
    "name": "ipython",
    "version": 3
   },
   "file_extension": ".py",
   "mimetype": "text/x-python",
   "name": "python",
   "nbconvert_exporter": "python",
   "pygments_lexer": "ipython3",
   "version": "3.11.14"
  }
 },
 "nbformat": 4,
 "nbformat_minor": 5
}
