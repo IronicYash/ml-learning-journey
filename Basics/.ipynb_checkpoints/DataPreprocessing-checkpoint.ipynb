{
 "cells": [
  {
   "cell_type": "code",
   "execution_count": 1,
   "id": "ba6637b4-da96-482f-ba0f-7f8912903861",
   "metadata": {},
   "outputs": [
    {
     "name": "stdout",
     "output_type": "stream",
     "text": [
      "✅ Libraries imported!\n"
     ]
    }
   ],
   "source": [
    "import pandas as pd\n",
    "import numpy as np\n",
    "from sklearn.model_selection import train_test_split\n",
    "from sklearn.preprocessing import LabelEncoder, StandardScaler\n",
    "\n",
    "print(\"✅ Libraries imported!\")"
   ]
  },
  {
   "cell_type": "code",
   "execution_count": 2,
   "id": "db0ebc19-5970-4e06-8628-d925e8c35681",
   "metadata": {},
   "outputs": [
    {
     "name": "stdout",
     "output_type": "stream",
     "text": [
      "Original Data:\n",
      "     Name   Age     City   Salary\n",
      "0    Amit  25.0    Delhi  50000.0\n",
      "1    Neha  30.0   Mumbai  60000.0\n",
      "2     Raj   NaN    Delhi  52000.0\n",
      "3  Simran  22.0     Pune      NaN\n",
      "4    Asha  28.0      NaN  58000.0\n",
      "5   Rohit  35.0  Chennai  62000.0\n"
     ]
    }
   ],
   "source": [
    "data = {\n",
    "    'Name': ['Amit', 'Neha', 'Raj', 'Simran', 'Asha', 'Rohit'],\n",
    "    'Age': [25, 30, np.nan, 22, 28, 35],\n",
    "    'City': ['Delhi', 'Mumbai', 'Delhi', 'Pune', np.nan, 'Chennai'],\n",
    "    'Salary': [50000, 60000, 52000, np.nan, 58000, 62000]\n",
    "}\n",
    "\n",
    "df = pd.DataFrame(data)\n",
    "print(\"Original Data:\")\n",
    "print(df)"
   ]
  },
  {
   "cell_type": "code",
   "execution_count": 6,
   "id": "71f3dfec-0f67-42dd-8c2a-f5c07ea79f0a",
   "metadata": {},
   "outputs": [
    {
     "name": "stdout",
     "output_type": "stream",
     "text": [
      "✅ After filling missing values:\n",
      "     Name   Age     City   Salary\n",
      "0    Amit  25.0    Delhi  50000.0\n",
      "1    Neha  30.0   Mumbai  60000.0\n",
      "2     Raj  28.0    Delhi  52000.0\n",
      "3  Simran  22.0     Pune  56400.0\n",
      "4    Asha  28.0    Delhi  58000.0\n",
      "5   Rohit  35.0  Chennai  62000.0\n"
     ]
    }
   ],
   "source": [
    "# Fill missing numeric values with mean\n",
    "df['Age'] = df['Age'].fillna(df['Age'].mean())\n",
    "df['Salary'] = df['Salary'].fillna(df['Salary'].mean())\n",
    "\n",
    "# Fill missing categorical values with mode (most frequent)\n",
    "df['City'] = df['City'].fillna(df['City'].mode()[0])\n",
    "\n",
    "print(\"✅ After filling missing values:\")\n",
    "print(df)"
   ]
  },
  {
   "cell_type": "code",
   "execution_count": 7,
   "id": "bee6a90c-ad7f-4d81-a1be-f98efcde5fb5",
   "metadata": {},
   "outputs": [
    {
     "name": "stdout",
     "output_type": "stream",
     "text": [
      "✅ After encoding City column:\n",
      "     Name   Age  City   Salary\n",
      "0    Amit  25.0     1  50000.0\n",
      "1    Neha  30.0     2  60000.0\n",
      "2     Raj  28.0     1  52000.0\n",
      "3  Simran  22.0     3  56400.0\n",
      "4    Asha  28.0     1  58000.0\n",
      "5   Rohit  35.0     0  62000.0\n"
     ]
    }
   ],
   "source": [
    "le = LabelEncoder()\n",
    "df['City'] = le.fit_transform(df['City'])\n",
    "\n",
    "print(\"✅ After encoding City column:\")\n",
    "print(df)"
   ]
  },
  {
   "cell_type": "code",
   "execution_count": 8,
   "id": "8db3c271-ef9d-4b82-a31f-75964082bf28",
   "metadata": {},
   "outputs": [
    {
     "name": "stdout",
     "output_type": "stream",
     "text": [
      "✅ After scaling numeric data:\n",
      "     Name       Age  City    Salary\n",
      "0    Amit -0.742307     1 -1.514113\n",
      "1    Neha  0.494872     2  0.851688\n",
      "2     Raj  0.000000     1 -1.040952\n",
      "3  Simran -1.484615     3  0.000000\n",
      "4    Asha  0.000000     1  0.378528\n",
      "5   Rohit  1.732051     0  1.324849\n"
     ]
    }
   ],
   "source": [
    "scaler = StandardScaler()\n",
    "df[['Age', 'Salary']] = scaler.fit_transform(df[['Age', 'Salary']])\n",
    "\n",
    "print(\"✅ After scaling numeric data:\")\n",
    "print(df)"
   ]
  },
  {
   "cell_type": "code",
   "execution_count": 9,
   "id": "57c367c5-945f-4bea-ac9d-cd4cc2cb60e1",
   "metadata": {},
   "outputs": [
    {
     "name": "stdout",
     "output_type": "stream",
     "text": [
      "✅ Training features:\n",
      "         Age  City    Salary\n",
      "5  1.732051     0  1.324849\n",
      "2  0.000000     1 -1.040952\n",
      "4  0.000000     1  0.378528\n",
      "3 -1.484615     3  0.000000\n",
      "\n",
      "✅ Testing features:\n",
      "         Age  City    Salary\n",
      "0 -0.742307     1 -1.514113\n",
      "1  0.494872     2  0.851688\n"
     ]
    }
   ],
   "source": [
    "X = df[['Age', 'City', 'Salary']]\n",
    "y = np.array([1, 0, 1, 0, 1, 0])  # dummy target variable (e.g., will buy or not buy)\n",
    "\n",
    "X_train, X_test, y_train, y_test = train_test_split(X, y, test_size=0.3, random_state=42)\n",
    "\n",
    "print(\"✅ Training features:\\n\", X_train)\n",
    "print(\"\\n✅ Testing features:\\n\", X_test)\n"
   ]
  }
 ],
 "metadata": {
  "kernelspec": {
   "display_name": "Python 3 (ipykernel)",
   "language": "python",
   "name": "python3"
  },
  "language_info": {
   "codemirror_mode": {
    "name": "ipython",
    "version": 3
   },
   "file_extension": ".py",
   "mimetype": "text/x-python",
   "name": "python",
   "nbconvert_exporter": "python",
   "pygments_lexer": "ipython3",
   "version": "3.11.14"
  }
 },
 "nbformat": 4,
 "nbformat_minor": 5
}
