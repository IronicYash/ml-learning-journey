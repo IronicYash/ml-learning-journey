{
 "cells": [
  {
   "cell_type": "code",
   "execution_count": 1,
   "id": "a04d403b-7f47-452d-bfac-678b108aeeaa",
   "metadata": {},
   "outputs": [
    {
     "name": "stdout",
     "output_type": "stream",
     "text": [
      "✅ Libraries imported successfully!\n"
     ]
    }
   ],
   "source": [
    "import numpy as np\n",
    "import pandas as pd\n",
    "\n",
    "print(\"✅ Libraries imported successfully!\")"
   ]
  },
  {
   "cell_type": "code",
   "execution_count": 2,
   "id": "590aa0b5-8c9f-44d9-91b2-da98b2c96942",
   "metadata": {},
   "outputs": [
    {
     "name": "stdout",
     "output_type": "stream",
     "text": [
      "Array: [1 2 3 4 5]\n",
      "Mean: 3.0\n",
      "Standard Deviation: 1.4142135623730951\n",
      "Array + 10: [11 12 13 14 15]\n"
     ]
    }
   ],
   "source": [
    "# Create an array\n",
    "arr = np.array([1, 2, 3, 4, 5])\n",
    "\n",
    "print(\"Array:\", arr)\n",
    "print(\"Mean:\", np.mean(arr))\n",
    "print(\"Standard Deviation:\", np.std(arr))\n",
    "print(\"Array + 10:\", arr + 10)"
   ]
  },
  {
   "cell_type": "code",
   "execution_count": 3,
   "id": "57d2e332-f439-4a85-9a92-f8c3cbf32a84",
   "metadata": {},
   "outputs": [
    {
     "name": "stdout",
     "output_type": "stream",
     "text": [
      "✅ DataFrame created!\n",
      "\n",
      "     Name  Age  Score\n",
      "0    Amit   23     85\n",
      "1    Neha   25     90\n",
      "2     Raj   22     88\n",
      "3  Simran   24     92\n"
     ]
    }
   ],
   "source": [
    "# Create a simple dataset\n",
    "data = {\n",
    "    'Name': ['Amit', 'Neha', 'Raj', 'Simran'],\n",
    "    'Age': [23, 25, 22, 24],\n",
    "    'Score': [85, 90, 88, 92]\n",
    "}\n",
    "\n",
    "df = pd.DataFrame(data)\n",
    "\n",
    "print(\"✅ DataFrame created!\\n\")\n",
    "print(df)"
   ]
  },
  {
   "cell_type": "code",
   "execution_count": 4,
   "id": "bcbb6fce-627c-463b-9c01-497134488e58",
   "metadata": {},
   "outputs": [
    {
     "name": "stdout",
     "output_type": "stream",
     "text": [
      "             Age      Score\n",
      "count   4.000000   4.000000\n",
      "mean   23.500000  88.750000\n",
      "std     1.290994   2.986079\n",
      "min    22.000000  85.000000\n",
      "25%    22.750000  87.250000\n",
      "50%    23.500000  89.000000\n",
      "75%    24.250000  90.500000\n",
      "max    25.000000  92.000000\n",
      "\n",
      "Columns: Index(['Name', 'Age', 'Score'], dtype='object')\n",
      "\n",
      "Mean Score: 88.75\n"
     ]
    }
   ],
   "source": [
    "print(df.describe())  # stats summary\n",
    "print(\"\\nColumns:\", df.columns)\n",
    "print(\"\\nMean Score:\", df['Score'].mean())"
   ]
  },
  {
   "cell_type": "code",
   "execution_count": null,
   "id": "f2c7ddea-9665-40a8-8e94-a6921372ba7f",
   "metadata": {},
   "outputs": [],
   "source": []
  }
 ],
 "metadata": {
  "kernelspec": {
   "display_name": "Python 3 (ipykernel)",
   "language": "python",
   "name": "python3"
  },
  "language_info": {
   "codemirror_mode": {
    "name": "ipython",
    "version": 3
   },
   "file_extension": ".py",
   "mimetype": "text/x-python",
   "name": "python",
   "nbconvert_exporter": "python",
   "pygments_lexer": "ipython3",
   "version": "3.11.14"
  }
 },
 "nbformat": 4,
 "nbformat_minor": 5
}
